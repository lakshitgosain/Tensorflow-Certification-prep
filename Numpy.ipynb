{
 "cells": [
  {
   "cell_type": "code",
   "execution_count": 1,
   "metadata": {},
   "outputs": [],
   "source": [
    "import numpy as np"
   ]
  },
  {
   "cell_type": "markdown",
   "metadata": {},
   "source": [
    "##Datatypes and Attributes"
   ]
  },
  {
   "cell_type": "markdown",
   "metadata": {},
   "source": [
    "Numpy's main type is ND Array...n dimensional array"
   ]
  },
  {
   "cell_type": "code",
   "execution_count": 2,
   "metadata": {},
   "outputs": [
    {
     "data": {
      "text/plain": [
       "array([1, 2, 3])"
      ]
     },
     "execution_count": 2,
     "metadata": {},
     "output_type": "execute_result"
    }
   ],
   "source": [
    "a1=np.array([1,2,3])\n",
    "a1"
   ]
  },
  {
   "cell_type": "code",
   "execution_count": 3,
   "metadata": {},
   "outputs": [
    {
     "data": {
      "text/plain": [
       "numpy.ndarray"
      ]
     },
     "execution_count": 3,
     "metadata": {},
     "output_type": "execute_result"
    }
   ],
   "source": [
    "type(a1)"
   ]
  },
  {
   "cell_type": "code",
   "execution_count": 6,
   "metadata": {},
   "outputs": [],
   "source": [
    "a2=np.array([[1,2,3],\n",
    "            [4,5,6.6],\n",
    "            ])"
   ]
  },
  {
   "cell_type": "code",
   "execution_count": 7,
   "metadata": {},
   "outputs": [
    {
     "data": {
      "text/plain": [
       "array([[1. , 2. , 3. ],\n",
       "       [4. , 5. , 6.6]])"
      ]
     },
     "execution_count": 7,
     "metadata": {},
     "output_type": "execute_result"
    }
   ],
   "source": [
    "a2"
   ]
  },
  {
   "cell_type": "code",
   "execution_count": 20,
   "metadata": {},
   "outputs": [],
   "source": [
    "a3=np.array([[[1,2],\n",
    "             [4,5]],\n",
    "             [[7,8],\n",
    "             [10,11]]])"
   ]
  },
  {
   "cell_type": "code",
   "execution_count": 24,
   "metadata": {},
   "outputs": [
    {
     "data": {
      "text/plain": [
       "(2, 3)"
      ]
     },
     "execution_count": 24,
     "metadata": {},
     "output_type": "execute_result"
    }
   ],
   "source": [
    "a2.shape"
   ]
  },
  {
   "cell_type": "code",
   "execution_count": 26,
   "metadata": {},
   "outputs": [
    {
     "data": {
      "text/plain": [
       "(1, 2, 3)"
      ]
     },
     "execution_count": 26,
     "metadata": {},
     "output_type": "execute_result"
    }
   ],
   "source": [
    "a1.ndim, a2.ndim, a3.ndim"
   ]
  },
  {
   "cell_type": "code",
   "execution_count": 27,
   "metadata": {},
   "outputs": [],
   "source": [
    "import pandas as pd"
   ]
  },
  {
   "cell_type": "code",
   "execution_count": 29,
   "metadata": {},
   "outputs": [],
   "source": [
    "df=pd.DataFrame(a2)"
   ]
  },
  {
   "cell_type": "code",
   "execution_count": 30,
   "metadata": {},
   "outputs": [
    {
     "data": {
      "text/html": [
       "<div>\n",
       "<style scoped>\n",
       "    .dataframe tbody tr th:only-of-type {\n",
       "        vertical-align: middle;\n",
       "    }\n",
       "\n",
       "    .dataframe tbody tr th {\n",
       "        vertical-align: top;\n",
       "    }\n",
       "\n",
       "    .dataframe thead th {\n",
       "        text-align: right;\n",
       "    }\n",
       "</style>\n",
       "<table border=\"1\" class=\"dataframe\">\n",
       "  <thead>\n",
       "    <tr style=\"text-align: right;\">\n",
       "      <th></th>\n",
       "      <th>0</th>\n",
       "      <th>1</th>\n",
       "      <th>2</th>\n",
       "    </tr>\n",
       "  </thead>\n",
       "  <tbody>\n",
       "    <tr>\n",
       "      <th>0</th>\n",
       "      <td>1.0</td>\n",
       "      <td>2.0</td>\n",
       "      <td>3.0</td>\n",
       "    </tr>\n",
       "    <tr>\n",
       "      <th>1</th>\n",
       "      <td>4.0</td>\n",
       "      <td>5.0</td>\n",
       "      <td>6.6</td>\n",
       "    </tr>\n",
       "  </tbody>\n",
       "</table>\n",
       "</div>"
      ],
      "text/plain": [
       "     0    1    2\n",
       "0  1.0  2.0  3.0\n",
       "1  4.0  5.0  6.6"
      ]
     },
     "execution_count": 30,
     "metadata": {},
     "output_type": "execute_result"
    }
   ],
   "source": [
    "df"
   ]
  },
  {
   "cell_type": "code",
   "execution_count": 33,
   "metadata": {},
   "outputs": [
    {
     "data": {
      "text/plain": [
       "(dtype('int32'), dtype('float64'), dtype('int32'))"
      ]
     },
     "execution_count": 33,
     "metadata": {},
     "output_type": "execute_result"
    }
   ],
   "source": [
    "a1.dtype, a2.dtype, a3.dtype"
   ]
  },
  {
   "cell_type": "code",
   "execution_count": 34,
   "metadata": {},
   "outputs": [
    {
     "data": {
      "text/plain": [
       "6"
      ]
     },
     "execution_count": 34,
     "metadata": {},
     "output_type": "execute_result"
    }
   ],
   "source": [
    "a2.size #Returns the number of elements."
   ]
  },
  {
   "cell_type": "code",
   "execution_count": null,
   "metadata": {},
   "outputs": [],
   "source": []
  },
  {
   "cell_type": "code",
   "execution_count": null,
   "metadata": {},
   "outputs": [],
   "source": []
  },
  {
   "cell_type": "code",
   "execution_count": 35,
   "metadata": {},
   "outputs": [],
   "source": [
    "#tutorial#336\n"
   ]
  },
  {
   "cell_type": "markdown",
   "metadata": {},
   "source": [
    "It is a tedious task to enter the values in an array manually.Hence using functions."
   ]
  },
  {
   "cell_type": "code",
   "execution_count": 36,
   "metadata": {},
   "outputs": [],
   "source": [
    "ones=np.ones((2,2))"
   ]
  },
  {
   "cell_type": "code",
   "execution_count": 37,
   "metadata": {},
   "outputs": [
    {
     "data": {
      "text/plain": [
       "array([[1., 1.],\n",
       "       [1., 1.]])"
      ]
     },
     "execution_count": 37,
     "metadata": {},
     "output_type": "execute_result"
    }
   ],
   "source": [
    "ones"
   ]
  },
  {
   "cell_type": "code",
   "execution_count": null,
   "metadata": {},
   "outputs": [],
   "source": []
  },
  {
   "cell_type": "code",
   "execution_count": 38,
   "metadata": {},
   "outputs": [],
   "source": [
    "zeros=np.zeros((2,2))"
   ]
  },
  {
   "cell_type": "code",
   "execution_count": 39,
   "metadata": {},
   "outputs": [
    {
     "data": {
      "text/plain": [
       "array([[0., 0.],\n",
       "       [0., 0.]])"
      ]
     },
     "execution_count": 39,
     "metadata": {},
     "output_type": "execute_result"
    }
   ],
   "source": [
    "zeros"
   ]
  },
  {
   "cell_type": "code",
   "execution_count": null,
   "metadata": {},
   "outputs": [],
   "source": []
  },
  {
   "cell_type": "code",
   "execution_count": 40,
   "metadata": {},
   "outputs": [],
   "source": [
    "range_array=np.arange(0,10,1)"
   ]
  },
  {
   "cell_type": "code",
   "execution_count": 41,
   "metadata": {},
   "outputs": [
    {
     "data": {
      "text/plain": [
       "array([0, 1, 2, 3, 4, 5, 6, 7, 8, 9])"
      ]
     },
     "execution_count": 41,
     "metadata": {},
     "output_type": "execute_result"
    }
   ],
   "source": [
    "range_array"
   ]
  },
  {
   "cell_type": "code",
   "execution_count": null,
   "metadata": {},
   "outputs": [],
   "source": []
  },
  {
   "cell_type": "code",
   "execution_count": 45,
   "metadata": {},
   "outputs": [],
   "source": [
    "random_array=np.random.randint(1,15, size=(3,5))"
   ]
  },
  {
   "cell_type": "code",
   "execution_count": 46,
   "metadata": {},
   "outputs": [
    {
     "data": {
      "text/plain": [
       "array([[ 3, 11, 14,  4, 14],\n",
       "       [ 7,  4,  5, 11,  3],\n",
       "       [ 6, 11,  4, 11, 14]])"
      ]
     },
     "execution_count": 46,
     "metadata": {},
     "output_type": "execute_result"
    }
   ],
   "source": [
    "random_array"
   ]
  },
  {
   "cell_type": "code",
   "execution_count": 47,
   "metadata": {},
   "outputs": [],
   "source": [
    "random_array_2=np.random.random((5,2))"
   ]
  },
  {
   "cell_type": "code",
   "execution_count": 48,
   "metadata": {},
   "outputs": [
    {
     "data": {
      "text/plain": [
       "array([[0.61290372, 0.24729034],\n",
       "       [0.88044263, 0.94931867],\n",
       "       [0.44355826, 0.17999273],\n",
       "       [0.14968553, 0.16079213],\n",
       "       [0.73873332, 0.58570101]])"
      ]
     },
     "execution_count": 48,
     "metadata": {},
     "output_type": "execute_result"
    }
   ],
   "source": [
    "random_array_2"
   ]
  },
  {
   "cell_type": "code",
   "execution_count": 49,
   "metadata": {},
   "outputs": [
    {
     "data": {
      "text/plain": [
       "(5, 2)"
      ]
     },
     "execution_count": 49,
     "metadata": {},
     "output_type": "execute_result"
    }
   ],
   "source": [
    "random_array_2.shape"
   ]
  },
  {
   "cell_type": "code",
   "execution_count": null,
   "metadata": {},
   "outputs": [],
   "source": []
  },
  {
   "cell_type": "code",
   "execution_count": null,
   "metadata": {},
   "outputs": [],
   "source": []
  },
  {
   "cell_type": "markdown",
   "metadata": {},
   "source": [
    "Random Seed tutorial #337"
   ]
  },
  {
   "cell_type": "code",
   "execution_count": 59,
   "metadata": {},
   "outputs": [
    {
     "data": {
      "text/plain": [
       "array([[6, 7, 7],\n",
       "       [8, 1, 5],\n",
       "       [9, 8, 9],\n",
       "       [4, 3, 0],\n",
       "       [3, 5, 0]])"
      ]
     },
     "execution_count": 59,
     "metadata": {},
     "output_type": "execute_result"
    }
   ],
   "source": [
    "\n",
    "random_array_4=np.random.randint(10, size=(5,3))\n",
    "random_array_4"
   ]
  },
  {
   "cell_type": "code",
   "execution_count": 61,
   "metadata": {},
   "outputs": [
    {
     "data": {
      "text/plain": [
       "array([[5, 0, 3],\n",
       "       [3, 7, 9],\n",
       "       [3, 5, 2],\n",
       "       [4, 7, 6],\n",
       "       [8, 8, 1]])"
      ]
     },
     "execution_count": 61,
     "metadata": {},
     "output_type": "execute_result"
    }
   ],
   "source": [
    "np.random.seed(0) \n",
    "random_array_4=np.random.randint(10, size=(5,3))\n",
    "random_array_4"
   ]
  },
  {
   "cell_type": "code",
   "execution_count": null,
   "metadata": {},
   "outputs": [],
   "source": []
  },
  {
   "cell_type": "code",
   "execution_count": null,
   "metadata": {},
   "outputs": [],
   "source": []
  },
  {
   "cell_type": "markdown",
   "metadata": {},
   "source": [
    "Viewing Arrays and Matrices #338"
   ]
  },
  {
   "cell_type": "code",
   "execution_count": 62,
   "metadata": {},
   "outputs": [
    {
     "data": {
      "text/plain": [
       "array([0, 1, 2, 3, 4, 5, 6, 7, 8, 9])"
      ]
     },
     "execution_count": 62,
     "metadata": {},
     "output_type": "execute_result"
    }
   ],
   "source": [
    "np.unique(random_array_4)"
   ]
  },
  {
   "cell_type": "code",
   "execution_count": 63,
   "metadata": {},
   "outputs": [
    {
     "data": {
      "text/plain": [
       "(array([1, 2, 3]),\n",
       " array([[1. , 2. , 3. ],\n",
       "        [4. , 5. , 6.6]]),\n",
       " array([[[ 1,  2],\n",
       "         [ 4,  5]],\n",
       " \n",
       "        [[ 7,  8],\n",
       "         [10, 11]]]))"
      ]
     },
     "execution_count": 63,
     "metadata": {},
     "output_type": "execute_result"
    }
   ],
   "source": [
    "a1 , a2 , a3"
   ]
  },
  {
   "cell_type": "code",
   "execution_count": 64,
   "metadata": {},
   "outputs": [
    {
     "data": {
      "text/plain": [
       "1"
      ]
     },
     "execution_count": 64,
     "metadata": {},
     "output_type": "execute_result"
    }
   ],
   "source": [
    "a1[0]"
   ]
  },
  {
   "cell_type": "code",
   "execution_count": 65,
   "metadata": {},
   "outputs": [
    {
     "data": {
      "text/plain": [
       "array([[1, 2],\n",
       "       [4, 5]])"
      ]
     },
     "execution_count": 65,
     "metadata": {},
     "output_type": "execute_result"
    }
   ],
   "source": [
    "a3[0]"
   ]
  },
  {
   "cell_type": "code",
   "execution_count": 66,
   "metadata": {},
   "outputs": [
    {
     "data": {
      "text/plain": [
       "(2, 2, 2)"
      ]
     },
     "execution_count": 66,
     "metadata": {},
     "output_type": "execute_result"
    }
   ],
   "source": [
    "a3.shape"
   ]
  },
  {
   "cell_type": "code",
   "execution_count": 67,
   "metadata": {},
   "outputs": [
    {
     "data": {
      "text/plain": [
       "array([4. , 5. , 6.6])"
      ]
     },
     "execution_count": 67,
     "metadata": {},
     "output_type": "execute_result"
    }
   ],
   "source": [
    "a2[1]"
   ]
  },
  {
   "cell_type": "code",
   "execution_count": 70,
   "metadata": {},
   "outputs": [
    {
     "data": {
      "text/plain": [
       "array([[[ 1,  2],\n",
       "        [ 4,  5]],\n",
       "\n",
       "       [[ 7,  8],\n",
       "        [10, 11]]])"
      ]
     },
     "execution_count": 70,
     "metadata": {},
     "output_type": "execute_result"
    }
   ],
   "source": [
    "a3[:2,:2,:2]"
   ]
  },
  {
   "cell_type": "code",
   "execution_count": 71,
   "metadata": {},
   "outputs": [],
   "source": [
    "comp=np.random.randint(10,size=(2,3,4,5))"
   ]
  },
  {
   "cell_type": "code",
   "execution_count": 72,
   "metadata": {},
   "outputs": [
    {
     "data": {
      "text/plain": [
       "array([[[[6, 7, 7, 8, 1],\n",
       "         [5, 9, 8, 9, 4],\n",
       "         [3, 0, 3, 5, 0],\n",
       "         [2, 3, 8, 1, 3]],\n",
       "\n",
       "        [[3, 3, 7, 0, 1],\n",
       "         [9, 9, 0, 4, 7],\n",
       "         [3, 2, 7, 2, 0],\n",
       "         [0, 4, 5, 5, 6]],\n",
       "\n",
       "        [[8, 4, 1, 4, 9],\n",
       "         [8, 1, 1, 7, 9],\n",
       "         [9, 3, 6, 7, 2],\n",
       "         [0, 3, 5, 9, 4]]],\n",
       "\n",
       "\n",
       "       [[[4, 6, 4, 4, 3],\n",
       "         [4, 4, 8, 4, 3],\n",
       "         [7, 5, 5, 0, 1],\n",
       "         [5, 9, 3, 0, 5]],\n",
       "\n",
       "        [[0, 1, 2, 4, 2],\n",
       "         [0, 3, 2, 0, 7],\n",
       "         [5, 9, 0, 2, 7],\n",
       "         [2, 9, 2, 3, 3]],\n",
       "\n",
       "        [[2, 3, 4, 1, 2],\n",
       "         [9, 1, 4, 6, 8],\n",
       "         [2, 3, 0, 0, 6],\n",
       "         [0, 6, 3, 3, 8]]]])"
      ]
     },
     "execution_count": 72,
     "metadata": {},
     "output_type": "execute_result"
    }
   ],
   "source": [
    "comp"
   ]
  },
  {
   "cell_type": "code",
   "execution_count": 73,
   "metadata": {},
   "outputs": [],
   "source": [
    "#Get the first 3 numbers of the innermost dimenstion"
   ]
  },
  {
   "cell_type": "code",
   "execution_count": 74,
   "metadata": {},
   "outputs": [
    {
     "data": {
      "text/plain": [
       "array([[[[6, 7, 7],\n",
       "         [5, 9, 8],\n",
       "         [3, 0, 3],\n",
       "         [2, 3, 8]],\n",
       "\n",
       "        [[3, 3, 7],\n",
       "         [9, 9, 0],\n",
       "         [3, 2, 7],\n",
       "         [0, 4, 5]],\n",
       "\n",
       "        [[8, 4, 1],\n",
       "         [8, 1, 1],\n",
       "         [9, 3, 6],\n",
       "         [0, 3, 5]]],\n",
       "\n",
       "\n",
       "       [[[4, 6, 4],\n",
       "         [4, 4, 8],\n",
       "         [7, 5, 5],\n",
       "         [5, 9, 3]],\n",
       "\n",
       "        [[0, 1, 2],\n",
       "         [0, 3, 2],\n",
       "         [5, 9, 0],\n",
       "         [2, 9, 2]],\n",
       "\n",
       "        [[2, 3, 4],\n",
       "         [9, 1, 4],\n",
       "         [2, 3, 0],\n",
       "         [0, 6, 3]]]])"
      ]
     },
     "execution_count": 74,
     "metadata": {},
     "output_type": "execute_result"
    }
   ],
   "source": [
    "comp[:,:,:,:3]"
   ]
  },
  {
   "cell_type": "code",
   "execution_count": null,
   "metadata": {},
   "outputs": [],
   "source": []
  },
  {
   "cell_type": "code",
   "execution_count": null,
   "metadata": {},
   "outputs": [],
   "source": []
  },
  {
   "cell_type": "markdown",
   "metadata": {},
   "source": [
    "Manipulating and Comparing Arrays"
   ]
  },
  {
   "cell_type": "code",
   "execution_count": 75,
   "metadata": {},
   "outputs": [],
   "source": [
    "##Arithmetic"
   ]
  },
  {
   "cell_type": "code",
   "execution_count": 76,
   "metadata": {},
   "outputs": [
    {
     "data": {
      "text/plain": [
       "array([1, 2, 3])"
      ]
     },
     "execution_count": 76,
     "metadata": {},
     "output_type": "execute_result"
    }
   ],
   "source": [
    "a1"
   ]
  },
  {
   "cell_type": "code",
   "execution_count": 77,
   "metadata": {},
   "outputs": [],
   "source": [
    "ones=np.ones(3)"
   ]
  },
  {
   "cell_type": "code",
   "execution_count": 78,
   "metadata": {},
   "outputs": [
    {
     "data": {
      "text/plain": [
       "array([1., 1., 1.])"
      ]
     },
     "execution_count": 78,
     "metadata": {},
     "output_type": "execute_result"
    }
   ],
   "source": [
    "ones"
   ]
  },
  {
   "cell_type": "code",
   "execution_count": 79,
   "metadata": {},
   "outputs": [
    {
     "data": {
      "text/plain": [
       "array([2., 3., 4.])"
      ]
     },
     "execution_count": 79,
     "metadata": {},
     "output_type": "execute_result"
    }
   ],
   "source": [
    "a1+ones"
   ]
  },
  {
   "cell_type": "code",
   "execution_count": 80,
   "metadata": {},
   "outputs": [
    {
     "data": {
      "text/plain": [
       "array([[1. , 2. , 3. ],\n",
       "       [4. , 5. , 6.6]])"
      ]
     },
     "execution_count": 80,
     "metadata": {},
     "output_type": "execute_result"
    }
   ],
   "source": [
    "a2"
   ]
  },
  {
   "cell_type": "code",
   "execution_count": 81,
   "metadata": {},
   "outputs": [
    {
     "data": {
      "text/plain": [
       "array([[ 1. ,  4. ,  9. ],\n",
       "       [ 4. , 10. , 19.8]])"
      ]
     },
     "execution_count": 81,
     "metadata": {},
     "output_type": "execute_result"
    }
   ],
   "source": [
    "a1*a2"
   ]
  },
  {
   "cell_type": "code",
   "execution_count": 82,
   "metadata": {},
   "outputs": [
    {
     "ename": "ValueError",
     "evalue": "operands could not be broadcast together with shapes (2,3) (2,2,2) ",
     "output_type": "error",
     "traceback": [
      "\u001b[1;31m---------------------------------------------------------------------------\u001b[0m",
      "\u001b[1;31mValueError\u001b[0m                                Traceback (most recent call last)",
      "\u001b[1;32m<ipython-input-82-e78a3a07c1a0>\u001b[0m in \u001b[0;36m<module>\u001b[1;34m\u001b[0m\n\u001b[1;32m----> 1\u001b[1;33m \u001b[0ma2\u001b[0m\u001b[1;33m*\u001b[0m\u001b[0ma3\u001b[0m\u001b[1;33m\u001b[0m\u001b[1;33m\u001b[0m\u001b[0m\n\u001b[0m",
      "\u001b[1;31mValueError\u001b[0m: operands could not be broadcast together with shapes (2,3) (2,2,2) "
     ]
    }
   ],
   "source": [
    "a2*a3\n"
   ]
  },
  {
   "cell_type": "code",
   "execution_count": 83,
   "metadata": {},
   "outputs": [],
   "source": [
    "#The term broadcasting describes how numpy treats arrays with different shapes during arithmetic operations"
   ]
  },
  {
   "cell_type": "code",
   "execution_count": 84,
   "metadata": {},
   "outputs": [],
   "source": [
    "#The smaler array is broadcasted across the larger array so they have compatibel shapes\n",
    "\n",
    "#when operating with two arrays ,Numpy compares their shape element-wise. It starts with the trailing Dimensions. Two dimensions are compatible when they are equal or one of them is one "
   ]
  },
  {
   "cell_type": "code",
   "execution_count": 85,
   "metadata": {},
   "outputs": [],
   "source": [
    "#How to make a2 compatible with a3"
   ]
  },
  {
   "cell_type": "code",
   "execution_count": 86,
   "metadata": {},
   "outputs": [
    {
     "data": {
      "text/plain": [
       "array([[1.        , 1.        , 1.        ],\n",
       "       [0.25      , 0.4       , 0.45454545]])"
      ]
     },
     "execution_count": 86,
     "metadata": {},
     "output_type": "execute_result"
    }
   ],
   "source": [
    "a1/a2"
   ]
  },
  {
   "cell_type": "code",
   "execution_count": 87,
   "metadata": {},
   "outputs": [
    {
     "data": {
      "text/plain": [
       "array([[1., 1., 1.],\n",
       "       [4., 2., 2.]])"
      ]
     },
     "execution_count": 87,
     "metadata": {},
     "output_type": "execute_result"
    }
   ],
   "source": [
    "#Floor division removes the decimals\n",
    "a2//a1"
   ]
  },
  {
   "cell_type": "code",
   "execution_count": 88,
   "metadata": {},
   "outputs": [
    {
     "data": {
      "text/plain": [
       "array([[  1.   ,   4.   ,  27.   ],\n",
       "       [  4.   ,  25.   , 287.496]])"
      ]
     },
     "execution_count": 88,
     "metadata": {},
     "output_type": "execute_result"
    }
   ],
   "source": [
    "a2**a1"
   ]
  },
  {
   "cell_type": "code",
   "execution_count": 89,
   "metadata": {},
   "outputs": [
    {
     "data": {
      "text/plain": [
       "array([[ 1.  ,  4.  ,  9.  ],\n",
       "       [16.  , 25.  , 43.56]])"
      ]
     },
     "execution_count": 89,
     "metadata": {},
     "output_type": "execute_result"
    }
   ],
   "source": [
    "np.square(a2)"
   ]
  },
  {
   "cell_type": "code",
   "execution_count": 90,
   "metadata": {},
   "outputs": [
    {
     "data": {
      "text/plain": [
       "array([[2. , 4. , 6. ],\n",
       "       [5. , 7. , 9.6]])"
      ]
     },
     "execution_count": 90,
     "metadata": {},
     "output_type": "execute_result"
    }
   ],
   "source": [
    "np.add(a1,a2)"
   ]
  },
  {
   "cell_type": "code",
   "execution_count": 91,
   "metadata": {},
   "outputs": [
    {
     "data": {
      "text/plain": [
       "array([[0., 0., 0.],\n",
       "       [1., 2., 3.]])"
      ]
     },
     "execution_count": 91,
     "metadata": {},
     "output_type": "execute_result"
    }
   ],
   "source": [
    "np.mod(a1,a2)"
   ]
  },
  {
   "cell_type": "code",
   "execution_count": 92,
   "metadata": {},
   "outputs": [
    {
     "data": {
      "text/plain": [
       "array([ 2.71828183,  7.3890561 , 20.08553692])"
      ]
     },
     "execution_count": 92,
     "metadata": {},
     "output_type": "execute_result"
    }
   ],
   "source": [
    "np.exp(a1)"
   ]
  },
  {
   "cell_type": "code",
   "execution_count": 93,
   "metadata": {},
   "outputs": [
    {
     "data": {
      "text/plain": [
       "array([0.        , 0.69314718, 1.09861229])"
      ]
     },
     "execution_count": 93,
     "metadata": {},
     "output_type": "execute_result"
    }
   ],
   "source": [
    "np.log(a1)"
   ]
  },
  {
   "cell_type": "code",
   "execution_count": null,
   "metadata": {},
   "outputs": [],
   "source": []
  },
  {
   "cell_type": "code",
   "execution_count": null,
   "metadata": {},
   "outputs": [],
   "source": []
  },
  {
   "cell_type": "markdown",
   "metadata": {},
   "source": [
    "Aggregation #340"
   ]
  },
  {
   "cell_type": "markdown",
   "metadata": {},
   "source": [
    "Aggregation=Performing the same operation on a number of things"
   ]
  },
  {
   "cell_type": "code",
   "execution_count": 94,
   "metadata": {},
   "outputs": [
    {
     "data": {
      "text/plain": [
       "6"
      ]
     },
     "execution_count": 94,
     "metadata": {},
     "output_type": "execute_result"
    }
   ],
   "source": [
    "np.sum(a1)"
   ]
  },
  {
   "cell_type": "markdown",
   "metadata": {},
   "source": [
    "#diff b/w sum() and np.sum()..Use Python methods on Python Datatypes and use Numpy's methods on numpy arrays"
   ]
  },
  {
   "cell_type": "code",
   "execution_count": 96,
   "metadata": {},
   "outputs": [
    {
     "data": {
      "text/plain": [
       "array([1.64940460e-01, 3.69808093e-01, 1.46441763e-01, 5.69618406e-01,\n",
       "       7.03737279e-01, 2.88476437e-01, 4.33288062e-01, 7.56106694e-01,\n",
       "       3.96098275e-01, 8.96038388e-01, 6.38921076e-01, 8.91554437e-01,\n",
       "       6.80055569e-01, 4.49197738e-01, 9.78570928e-01, 1.16201910e-01,\n",
       "       7.67023704e-01, 4.11820139e-01, 6.75439081e-01, 2.49796276e-01,\n",
       "       3.13218332e-01, 9.65416221e-01, 5.88465085e-01, 6.59668412e-01,\n",
       "       5.33206254e-01, 2.30533024e-01, 3.94869293e-01, 6.18808565e-01,\n",
       "       4.74867515e-01, 4.70132189e-01, 7.16074531e-01, 2.87991004e-01,\n",
       "       3.83462225e-01, 7.49169837e-01, 8.78452190e-01, 1.02863359e-01,\n",
       "       9.23738895e-02, 3.54046662e-01, 5.51816259e-01, 3.36250935e-02,\n",
       "       9.68961765e-01, 3.20997241e-01, 2.21262685e-01, 1.41263905e-01,\n",
       "       9.72599271e-02, 9.84042241e-01, 2.60340928e-01, 5.37022521e-01,\n",
       "       4.47926172e-01, 9.95690891e-02, 3.52311661e-01, 4.69249174e-01,\n",
       "       8.41140130e-01, 9.04647744e-01, 3.75593838e-02, 5.08315449e-01,\n",
       "       1.66847513e-01, 7.79051020e-01, 8.64933296e-01, 4.11396724e-01,\n",
       "       1.39972585e-01, 3.32223853e-02, 9.82574960e-01, 3.73290751e-01,\n",
       "       4.20075370e-01, 5.05881151e-02, 3.65496106e-01, 1.66279737e-02,\n",
       "       2.30742335e-01, 7.64911699e-01, 9.44123519e-01, 7.49999249e-01,\n",
       "       3.39403819e-01, 4.89548937e-01, 3.38985117e-01, 1.79490261e-01,\n",
       "       1.70986599e-01, 4.63450977e-01, 8.74572958e-01, 9.44119751e-01,\n",
       "       6.08252866e-01, 5.96655406e-01, 7.83644245e-01, 5.00026298e-01,\n",
       "       5.03700568e-02, 6.99098075e-01, 9.92396399e-01, 2.67262538e-01,\n",
       "       6.79090616e-01, 8.64281443e-01, 7.50844246e-01, 9.64489768e-01,\n",
       "       5.54242435e-01, 2.12390499e-01, 2.22443224e-01, 2.18749374e-01,\n",
       "       5.69573535e-01, 4.52109035e-01, 9.70236683e-01, 6.80544691e-01,\n",
       "       8.52955659e-02, 5.64183327e-02, 4.87837704e-01, 8.81004562e-01,\n",
       "       9.76404387e-01, 6.17657916e-01, 5.42498775e-01, 8.54613580e-01,\n",
       "       7.43834545e-01, 4.78596326e-01, 6.77081574e-01, 6.07045061e-01,\n",
       "       7.14696936e-01, 4.69497183e-01, 4.56014623e-01, 9.06418087e-01,\n",
       "       1.37220420e-01, 2.29219323e-01, 8.81585399e-01, 9.04424976e-01,\n",
       "       6.45784599e-01, 3.24682972e-01, 5.19711194e-01, 5.53568650e-05,\n",
       "       3.11860221e-01, 4.25451538e-01, 8.85337660e-01, 6.79879456e-01,\n",
       "       4.56129772e-01, 4.83408617e-01, 7.88739428e-01, 2.29441834e-01,\n",
       "       8.80297603e-01, 3.13692393e-01, 9.57450856e-01, 4.71751571e-01,\n",
       "       7.11583817e-01, 1.53694305e-01, 7.30442177e-01, 6.46264437e-01,\n",
       "       2.14880737e-01, 1.86458219e-01, 8.07580269e-01, 7.47079470e-01,\n",
       "       6.74847346e-01, 2.76893751e-01, 1.74908874e-01, 7.04474258e-01,\n",
       "       4.63150200e-01, 8.40428533e-01, 2.04865762e-01, 1.64958868e-01,\n",
       "       1.24833057e-01, 7.22080662e-01, 3.04529649e-02, 7.46994240e-01,\n",
       "       9.25961651e-02, 2.17450493e-01, 7.49254417e-01, 7.31693756e-01,\n",
       "       4.56146372e-02, 2.09157029e-01, 2.86915043e-01, 6.77263305e-01,\n",
       "       6.30382897e-02, 5.55649243e-01, 9.24007349e-03, 8.33038098e-01,\n",
       "       9.84329434e-01, 7.03494784e-01, 1.81631200e-01, 5.12393463e-01,\n",
       "       5.80447137e-01, 7.87542156e-01, 6.06475460e-01, 2.18402855e-01,\n",
       "       4.55168815e-01, 8.78869742e-01, 4.92268242e-01, 7.15561157e-01,\n",
       "       4.86159560e-01, 7.08548150e-01, 4.98140226e-01, 8.44550079e-01,\n",
       "       1.94342223e-01, 7.73326010e-01, 9.74258664e-01, 8.62309777e-01,\n",
       "       7.80426651e-01, 9.85032279e-01, 7.53569607e-01, 4.04810637e-03,\n",
       "       2.69479434e-01, 4.10492138e-01, 4.28223832e-01, 2.97841819e-01,\n",
       "       4.01132342e-01, 1.20656991e-01, 9.80699674e-01, 4.06120493e-01,\n",
       "       5.69210760e-01, 3.43605503e-01, 7.88872778e-01, 4.11372414e-01,\n",
       "       3.59271417e-01, 3.99498910e-01, 3.01830876e-01, 7.75219777e-01,\n",
       "       9.26212930e-01, 3.25310305e-01, 9.52870672e-01, 1.39483959e-02,\n",
       "       5.33465682e-01, 3.04582031e-01, 8.82859998e-01, 2.50622720e-01,\n",
       "       6.77411829e-01, 8.10424091e-01, 4.32148050e-01, 7.52134521e-01,\n",
       "       8.29602248e-01, 3.79033772e-01, 9.65496098e-02, 2.56139577e-01,\n",
       "       5.91935158e-01, 4.76477201e-01, 4.87934569e-01, 4.58514552e-01,\n",
       "       5.24592621e-01, 4.42015318e-01, 8.52634924e-01, 4.33438974e-01,\n",
       "       8.26870368e-01, 5.09342065e-01, 8.63769804e-02, 6.60039862e-01,\n",
       "       2.06594607e-01, 8.47275323e-01, 6.81359129e-01, 1.78367349e-01,\n",
       "       6.98590173e-02, 9.68817080e-03, 8.92049658e-01, 1.33465210e-01,\n",
       "       7.79191974e-01, 9.25163426e-01, 7.15178749e-01, 4.90818613e-01,\n",
       "       4.69498303e-01, 8.82709289e-01, 4.88410060e-01, 4.14567485e-01,\n",
       "       1.74111952e-01, 4.75289442e-01, 7.83647965e-01, 5.56429427e-01,\n",
       "       1.59867082e-01, 1.43829366e-01, 6.49463030e-01, 5.39223597e-01,\n",
       "       3.25684766e-01, 1.47013895e-01, 1.59870067e-01, 1.29412337e-01,\n",
       "       5.78922388e-01, 9.22601704e-02, 9.10544722e-01, 8.29717477e-02,\n",
       "       8.00378462e-01, 8.77130966e-01, 9.34594564e-02, 4.26305880e-01,\n",
       "       4.73220674e-01, 5.80197106e-01, 7.16244174e-01, 2.70689848e-02,\n",
       "       7.31397340e-01, 7.66963505e-01, 9.76643560e-03, 3.08286167e-01,\n",
       "       2.32865471e-01, 5.03427428e-01, 9.53721381e-01, 5.57811301e-01,\n",
       "       9.74686887e-02, 6.21678491e-01, 8.63022617e-01, 1.57632276e-01,\n",
       "       9.92429523e-01, 8.50010675e-02, 9.44579142e-02, 6.33607890e-01,\n",
       "       9.49297473e-01, 9.36746474e-01, 4.47378295e-01, 7.27696343e-01,\n",
       "       7.42237978e-01, 3.06986056e-01, 1.19771349e-01, 4.43878676e-01,\n",
       "       3.91774319e-01, 5.31849177e-01, 8.45357682e-01, 5.36274544e-01,\n",
       "       6.80270151e-01, 6.09177582e-01, 9.84780034e-02, 9.20275856e-02,\n",
       "       5.59658283e-02, 8.65324902e-02, 2.37173294e-01, 8.39512967e-01,\n",
       "       5.22370532e-01, 5.13074863e-01, 6.49831974e-01, 5.44590877e-01,\n",
       "       3.24652957e-02, 5.80151716e-01, 7.71089048e-01, 3.76226574e-01,\n",
       "       4.91024741e-01, 9.81639680e-01, 2.44651414e-01, 3.74323197e-01,\n",
       "       4.56596420e-02, 3.10067640e-01, 8.31519400e-01, 8.07022836e-01,\n",
       "       6.40024155e-01, 3.68102402e-01, 3.12753296e-01, 8.01836150e-01,\n",
       "       7.04471859e-02, 6.83572960e-01, 3.80729245e-01, 6.33930956e-01,\n",
       "       9.26879089e-01, 8.53940118e-01, 4.97677979e-01, 4.27834379e-01,\n",
       "       8.22559451e-01, 7.38226581e-01, 4.47143840e-01, 9.68903041e-01,\n",
       "       3.63161258e-01, 3.97533492e-01, 7.38682659e-01, 4.49083428e-01,\n",
       "       9.37284364e-01, 2.57233485e-01, 3.81759807e-01, 6.97141617e-01,\n",
       "       8.97070105e-01, 1.21059880e-01, 2.41545686e-01, 2.28263610e-01,\n",
       "       4.89509329e-01, 8.91522677e-01, 3.58107475e-01, 3.85237419e-01,\n",
       "       9.16727019e-01, 1.13816640e-01, 6.31125542e-01, 1.32814999e-01,\n",
       "       3.74244581e-01, 3.24404864e-01, 6.80115538e-01, 7.95534746e-01,\n",
       "       5.03933612e-01, 2.96242388e-01, 8.85962269e-01, 3.51870561e-01,\n",
       "       7.38390338e-01, 5.55361263e-01, 2.01517713e-01, 5.48519096e-01,\n",
       "       5.19642829e-01, 3.48782664e-01, 2.46199571e-02, 1.48829303e-01,\n",
       "       1.31852038e-01, 7.07917463e-01, 7.09072114e-01, 6.11748414e-01,\n",
       "       6.71907016e-01, 4.47515871e-01, 6.96077169e-01, 3.78326145e-01,\n",
       "       1.00032049e-01, 9.60256784e-01, 7.24344475e-02, 1.93006065e-02,\n",
       "       9.79573252e-01, 1.48478088e-01, 2.58702322e-01, 2.15528812e-01,\n",
       "       5.79912398e-01, 9.75751685e-01, 2.73008901e-01, 9.70075074e-01,\n",
       "       2.54973490e-02, 8.88043705e-01, 7.08608838e-01, 2.77773674e-01,\n",
       "       8.94863192e-01, 2.65225526e-02, 6.25636617e-01, 3.29542711e-01,\n",
       "       9.67121131e-01, 1.68576405e-01, 9.01482986e-01, 3.29935651e-01,\n",
       "       8.89233322e-01, 5.12451659e-01, 5.10628907e-01, 3.86827154e-01,\n",
       "       5.30088936e-01, 9.44707481e-01, 8.92862247e-01, 6.77114400e-01,\n",
       "       6.39027384e-01, 5.48361338e-01, 2.72683118e-01, 1.48268642e-01,\n",
       "       8.56302977e-01, 6.35056799e-01, 2.99643494e-01, 4.60219706e-01,\n",
       "       2.45273972e-02, 5.58065101e-01, 3.61151517e-01, 5.02709541e-01,\n",
       "       1.53627537e-01, 4.25507637e-01, 9.06171841e-01, 8.51159006e-03,\n",
       "       9.68864100e-01, 6.90893725e-01, 9.94163944e-02, 2.89775876e-01,\n",
       "       5.39073547e-01, 7.24147848e-01, 3.88867430e-01, 2.27083971e-01,\n",
       "       4.54859880e-01, 9.72082508e-01, 8.33818234e-01, 9.14790660e-01,\n",
       "       6.67284844e-01, 4.40666093e-01, 6.85091991e-01, 6.48598308e-01,\n",
       "       2.91000142e-02, 9.19531435e-01, 5.42457003e-01, 9.91141651e-01,\n",
       "       3.83102892e-01, 8.06669325e-01, 4.61006829e-01, 8.26824214e-01,\n",
       "       5.39118235e-01, 8.87264839e-01, 8.80106864e-01, 3.28303308e-01,\n",
       "       4.04424943e-01, 5.44647357e-01, 6.21692900e-01, 3.79356078e-01,\n",
       "       5.42129454e-01, 1.20919361e-01, 6.80697239e-01, 2.87119262e-01,\n",
       "       4.29764086e-02, 1.16098337e-01, 1.06429407e-01, 3.16487919e-01,\n",
       "       2.46534794e-01, 5.62783124e-01, 9.06354227e-01, 5.80106913e-01,\n",
       "       5.97936730e-01, 2.38043524e-01, 5.80887274e-01, 1.45870154e-01,\n",
       "       3.35630979e-01, 6.25527971e-01, 3.61305682e-01, 9.10993988e-01,\n",
       "       8.78492624e-01, 4.34155576e-01, 5.17612100e-01, 4.74667988e-01,\n",
       "       1.84362596e-01, 4.34760644e-01, 1.87551936e-01, 7.15207834e-01,\n",
       "       5.23006389e-01, 3.20565328e-01, 3.09954108e-03, 5.97302940e-01,\n",
       "       6.49078335e-01, 5.18962726e-03, 9.70221804e-01, 6.63866068e-01,\n",
       "       2.93144403e-01, 2.00364322e-01, 9.25702152e-01, 3.09251290e-01,\n",
       "       4.03218033e-01, 6.33062007e-01, 8.90652809e-01, 4.32606357e-01,\n",
       "       9.28218711e-01, 5.92080663e-01, 4.31784928e-01, 5.92780271e-01,\n",
       "       3.54506054e-01, 6.57019774e-01, 6.52308953e-01, 8.21718564e-01,\n",
       "       4.02766760e-01, 3.75650525e-02, 9.84631623e-01, 4.48142832e-01,\n",
       "       9.37635225e-01, 6.72041057e-01, 2.66696878e-01, 5.64064360e-01,\n",
       "       9.56932975e-01, 1.13485915e-01, 2.72229361e-01, 8.20577454e-02,\n",
       "       7.65270584e-01, 2.16887239e-02, 1.37251351e-01, 2.60628667e-01,\n",
       "       8.71082572e-01, 1.79410070e-01, 4.33278733e-01, 3.25117909e-01,\n",
       "       5.83404188e-01, 9.36468100e-01, 9.40781659e-01, 5.25081674e-02,\n",
       "       5.96211120e-01, 8.91800965e-01, 7.80931133e-01, 2.11533898e-01,\n",
       "       7.64994448e-01, 1.89062660e-01, 8.98759588e-01, 8.93126501e-03,\n",
       "       9.02329795e-02, 6.19182800e-01, 3.82440099e-01, 9.65628786e-02,\n",
       "       9.84933308e-01, 8.96581255e-01, 2.71113392e-01, 4.73190048e-01,\n",
       "       4.79753870e-01, 5.08390389e-01, 9.67259306e-01, 9.99585156e-02,\n",
       "       3.96504560e-02, 4.83706461e-01, 4.58259012e-01, 2.35262844e-01,\n",
       "       5.88702833e-02, 1.23844418e-01, 8.56755247e-01, 3.99667372e-01,\n",
       "       3.81397153e-01, 2.19736355e-02, 3.74752705e-01, 6.61607288e-01,\n",
       "       6.25358200e-01, 9.13991218e-01, 6.71794301e-01, 3.24082691e-01,\n",
       "       3.16219986e-01, 8.33315808e-01, 7.75803219e-01, 2.81152966e-01,\n",
       "       7.13927195e-01, 5.61577281e-01, 3.99660014e-01, 5.30860131e-01,\n",
       "       8.52330603e-02, 6.65677731e-01, 2.96348181e-02, 8.89287316e-01,\n",
       "       6.82118959e-01, 8.91314350e-01, 1.20757174e-03, 9.37218826e-01,\n",
       "       9.58307360e-01, 7.96319413e-01, 9.92073843e-01, 3.55225198e-01,\n",
       "       8.48340150e-01, 7.70674496e-01, 7.20527518e-01, 6.33414821e-01,\n",
       "       3.07376117e-01, 5.37279025e-01, 2.74575049e-01, 8.68991837e-03,\n",
       "       2.49447246e-02, 1.44286097e-01, 5.13759733e-01, 2.22657933e-01,\n",
       "       3.69489693e-01, 5.51072773e-02, 9.11197161e-01, 8.84951893e-01,\n",
       "       8.97277073e-01, 3.32190888e-01, 7.12926853e-01, 4.26943410e-01,\n",
       "       3.01692466e-01, 7.04108311e-02, 4.21844518e-01, 3.88319604e-01,\n",
       "       1.60393536e-01, 3.50207261e-01, 9.56198826e-02, 8.71102533e-01,\n",
       "       6.67593305e-01, 1.92717977e-01, 9.18091951e-01, 5.79680893e-01,\n",
       "       4.55898438e-01, 6.42351749e-01, 2.54025231e-01, 5.51079149e-01,\n",
       "       1.31903250e-01, 2.00516013e-01, 5.14054472e-01, 9.74933842e-02,\n",
       "       8.51853699e-01, 3.95543830e-01, 2.33077824e-01, 5.85432075e-01,\n",
       "       7.46836372e-01, 6.08988614e-01, 5.79011206e-01, 1.70099639e-01,\n",
       "       6.86362050e-01, 9.76801803e-01, 6.08593307e-01, 3.28378949e-01,\n",
       "       8.02692140e-01, 8.36364027e-01, 4.15279947e-01, 4.15608261e-01,\n",
       "       9.36617108e-01, 7.22184024e-01, 3.29013346e-02, 4.25945945e-01,\n",
       "       9.38944686e-02, 9.78547546e-01, 5.75212470e-01, 6.43678087e-01,\n",
       "       3.64462684e-01, 6.67714889e-01, 5.71843638e-01, 7.74683475e-01,\n",
       "       9.00102131e-01, 4.04306526e-01, 8.95345114e-01, 6.50824814e-02,\n",
       "       6.85477381e-01, 2.31070051e-01, 5.38868503e-01, 7.73034976e-01,\n",
       "       7.46584288e-01, 7.21430110e-01, 4.82891623e-01, 1.94022816e-01,\n",
       "       2.05566323e-01, 5.35468257e-01, 4.37814252e-01, 9.74989812e-01,\n",
       "       3.00823926e-01, 7.89699094e-02, 7.26877966e-01, 9.75424134e-01,\n",
       "       7.82089377e-01, 2.47045212e-01, 3.65609856e-02, 4.06921931e-01,\n",
       "       8.77750788e-01, 4.31993784e-01, 2.84086135e-01, 9.35301886e-01,\n",
       "       7.72265583e-01, 6.10986508e-01, 2.67707103e-03, 9.31505034e-01,\n",
       "       6.73837343e-01, 2.24466938e-01, 2.47530791e-02, 7.46831774e-03,\n",
       "       9.27402552e-01, 6.93152803e-01, 7.05147541e-01, 5.96064990e-01,\n",
       "       5.37235655e-01, 4.55578561e-01, 6.00193209e-01, 6.54081931e-01,\n",
       "       3.73039777e-01, 6.68233973e-01, 4.56884647e-01, 8.50668093e-02,\n",
       "       2.33173751e-01, 8.13717187e-02, 3.22017336e-01, 6.11327420e-01,\n",
       "       3.67626173e-01, 7.26227183e-01, 6.78059410e-01, 1.44691139e-01,\n",
       "       1.68042521e-01, 6.44354452e-02, 2.64332758e-01, 3.48356753e-01,\n",
       "       8.82482396e-02, 6.02229177e-01, 7.14375740e-01, 1.57222101e-01,\n",
       "       3.42137513e-01, 7.27249906e-01, 6.63317924e-01, 8.54460028e-01,\n",
       "       5.54603389e-01, 2.57564595e-02, 5.73206240e-02, 8.00610933e-02,\n",
       "       5.17137276e-01, 7.55106179e-01, 3.22732882e-02, 4.56687593e-01,\n",
       "       8.24797706e-01, 6.68605848e-01, 5.45917596e-01, 5.88811710e-01,\n",
       "       8.96480000e-01, 5.75077812e-01, 4.21819220e-01, 7.02951711e-01,\n",
       "       3.57207424e-01, 9.72911743e-01, 8.72302510e-01, 1.56653491e-01,\n",
       "       6.84125728e-01, 3.40707653e-02, 8.85207274e-01, 8.44853584e-01,\n",
       "       5.10128000e-01, 1.27688642e-01, 6.21473036e-01, 2.39337004e-01,\n",
       "       6.30871067e-01, 6.93745712e-01, 1.06254910e-01, 4.76945892e-01,\n",
       "       5.85593381e-01, 2.53625708e-01, 2.01010286e-01, 6.37855750e-01,\n",
       "       7.60743565e-01, 3.59110655e-01, 7.08897557e-01, 5.87375308e-01,\n",
       "       8.09593382e-01, 2.04072062e-01, 7.96396765e-01, 2.66407902e-01,\n",
       "       2.98264421e-01, 9.78172174e-01, 4.60135767e-02, 1.89753617e-01,\n",
       "       5.20874795e-01, 3.75994271e-01, 2.42099708e-01, 6.84552739e-01,\n",
       "       6.69236964e-01, 9.63740995e-01, 8.78600375e-01, 9.97436128e-01,\n",
       "       3.62887997e-01, 4.52344901e-02, 3.25296808e-01, 4.96914749e-01,\n",
       "       1.72195707e-01, 8.50760750e-02, 4.52728859e-01, 9.32665532e-01,\n",
       "       7.63165008e-01, 3.11486068e-01, 8.88615495e-01, 6.97274293e-01,\n",
       "       4.63344017e-01, 2.64619530e-01, 5.75533888e-01, 1.94901004e-01,\n",
       "       7.41231666e-01, 9.36927880e-01, 6.59267866e-01, 7.24994094e-01,\n",
       "       1.64488412e-01, 7.48223968e-01, 4.97356839e-01, 8.73826898e-02,\n",
       "       3.86447406e-01, 7.29448114e-01, 5.78210349e-01, 3.06382651e-01,\n",
       "       9.88749003e-01, 5.74031840e-01, 9.44949192e-01, 5.59774231e-01,\n",
       "       5.64666536e-01, 5.11704378e-02, 1.04078766e-01, 6.14438063e-01,\n",
       "       7.31633713e-01, 2.44032428e-01, 9.63975726e-01, 7.41238074e-01,\n",
       "       2.38011277e-01, 6.44420281e-01, 3.39756380e-01, 7.27480740e-01,\n",
       "       5.84592577e-01, 7.56653717e-01, 2.51463788e-01, 9.32295309e-01,\n",
       "       9.93001314e-01, 1.64532720e-01, 5.12905323e-01, 8.63476218e-01,\n",
       "       3.47697989e-01, 2.42637327e-01, 7.31065209e-01, 9.77517823e-01,\n",
       "       5.03747819e-01, 3.92430569e-01, 3.91932865e-01, 7.94506459e-01,\n",
       "       7.06061007e-01, 3.18917326e-01, 9.74588656e-01, 8.91580487e-01,\n",
       "       7.00928064e-01, 4.40777193e-01, 2.07295980e-01, 6.64964702e-01,\n",
       "       7.53890066e-01, 6.04077547e-01, 4.95616780e-01, 1.18041565e-01,\n",
       "       7.84730569e-01, 4.91591427e-01, 8.54114885e-01, 1.34818646e-01,\n",
       "       9.65089384e-01, 4.91201041e-01, 7.23503684e-02, 2.80113748e-01,\n",
       "       9.02580207e-01, 3.34017949e-01, 9.70078103e-01, 4.44121409e-01,\n",
       "       3.67046244e-01, 7.89769614e-01, 4.67119407e-01, 7.55665622e-02,\n",
       "       8.28840906e-01, 7.90462290e-01, 5.14992915e-01, 9.68331699e-03,\n",
       "       1.36357007e-01, 7.11990577e-01, 5.90857550e-01, 7.00044502e-01,\n",
       "       3.60934473e-01, 6.29376708e-01, 4.34826636e-01, 4.13801020e-01,\n",
       "       4.15032618e-01, 3.20556188e-02, 6.09950068e-02, 8.49319164e-01,\n",
       "       6.95525540e-01, 2.30411702e-01, 1.18126702e-01, 4.07102625e-02,\n",
       "       4.79707153e-01, 5.87967125e-01, 8.97955936e-01, 9.20271754e-01,\n",
       "       3.66244320e-01, 9.30839454e-01, 5.45779340e-01, 5.74091896e-01,\n",
       "       1.78635638e-01, 1.15861453e-01, 2.44376072e-01, 1.24288894e-01,\n",
       "       2.23291670e-01, 5.39813378e-01, 8.68254984e-01, 7.94987786e-01,\n",
       "       3.23562326e-02, 6.98557410e-01, 4.67917881e-02, 9.98025486e-01,\n",
       "       7.84114350e-01, 2.31381780e-01, 4.90110265e-01, 7.44101231e-01,\n",
       "       8.39806524e-01, 2.28857390e-01, 1.33948891e-01, 9.31076593e-01,\n",
       "       6.70761656e-01, 8.76284891e-01, 2.32383154e-01, 1.28696614e-01,\n",
       "       3.50325186e-01, 2.52699934e-01, 7.27540846e-02, 6.44479103e-01,\n",
       "       2.51211962e-01, 4.50224469e-01, 2.88300553e-01, 9.21192208e-01,\n",
       "       4.50209164e-01, 8.79856687e-01, 4.40163623e-02, 5.35801920e-01,\n",
       "       4.52730496e-01, 3.26117692e-01, 3.00189458e-01, 2.66788158e-01,\n",
       "       1.99529533e-01, 4.92632433e-01, 3.45137771e-01, 3.30600530e-01,\n",
       "       6.62071725e-02, 1.38650463e-02, 9.11656756e-01, 4.13758429e-01,\n",
       "       6.77044539e-01, 4.52398965e-01, 2.00637671e-01, 9.29475187e-01,\n",
       "       1.22661983e-01, 4.81375229e-01, 9.17280965e-02, 2.29276094e-01,\n",
       "       6.85414933e-01, 5.26412539e-01, 5.50054509e-01, 8.32238861e-01,\n",
       "       6.07781563e-02, 9.04826708e-01, 6.51227563e-01, 6.40907326e-01,\n",
       "       3.02082002e-02, 9.10072617e-01, 2.79819912e-02, 1.85447970e-01,\n",
       "       8.95911192e-01, 1.26727671e-01, 3.97988157e-01, 7.60049201e-01,\n",
       "       5.62947442e-01, 7.30478052e-01, 1.92846100e-01, 4.12052443e-01,\n",
       "       4.98388098e-01, 2.43623525e-01, 9.97917524e-01, 6.71115574e-01,\n",
       "       8.83779437e-01, 3.92966775e-01, 9.24839816e-01, 2.51626756e-01,\n",
       "       1.57883870e-01, 7.86860027e-01, 9.73016633e-01, 6.20358205e-02,\n",
       "       1.00002677e-01, 3.17897869e-01, 5.25950939e-01, 7.04271294e-01])"
      ]
     },
     "execution_count": 96,
     "metadata": {},
     "output_type": "execute_result"
    }
   ],
   "source": [
    "large_array=np.random.random(1000)\n",
    "large_array"
   ]
  },
  {
   "cell_type": "code",
   "execution_count": 97,
   "metadata": {},
   "outputs": [
    {
     "name": "stdout",
     "output_type": "stream",
     "text": [
      "517 µs ± 75.5 µs per loop (mean ± std. dev. of 7 runs, 1000 loops each)\n",
      "12.8 µs ± 1.94 µs per loop (mean ± std. dev. of 7 runs, 100000 loops each)\n"
     ]
    }
   ],
   "source": [
    "%timeit sum(large_array)\n",
    "%timeit np.sum(large_array)"
   ]
  },
  {
   "cell_type": "code",
   "execution_count": 98,
   "metadata": {},
   "outputs": [
    {
     "data": {
      "text/plain": [
       "3.6"
      ]
     },
     "execution_count": 98,
     "metadata": {},
     "output_type": "execute_result"
    }
   ],
   "source": [
    "np.mean(a2)"
   ]
  },
  {
   "cell_type": "code",
   "execution_count": 99,
   "metadata": {},
   "outputs": [
    {
     "data": {
      "text/plain": [
       "6.6"
      ]
     },
     "execution_count": 99,
     "metadata": {},
     "output_type": "execute_result"
    }
   ],
   "source": [
    "np.max(a2)"
   ]
  },
  {
   "cell_type": "code",
   "execution_count": 100,
   "metadata": {},
   "outputs": [
    {
     "data": {
      "text/plain": [
       "1.0"
      ]
     },
     "execution_count": 100,
     "metadata": {},
     "output_type": "execute_result"
    }
   ],
   "source": [
    "np.min(a2)"
   ]
  },
  {
   "cell_type": "code",
   "execution_count": 101,
   "metadata": {},
   "outputs": [
    {
     "data": {
      "text/plain": [
       "1.8618986725025255"
      ]
     },
     "execution_count": 101,
     "metadata": {},
     "output_type": "execute_result"
    }
   ],
   "source": [
    "np.std(a2)"
   ]
  },
  {
   "cell_type": "code",
   "execution_count": 102,
   "metadata": {},
   "outputs": [
    {
     "data": {
      "text/plain": [
       "3.4666666666666663"
      ]
     },
     "execution_count": 102,
     "metadata": {},
     "output_type": "execute_result"
    }
   ],
   "source": [
    "np.var(a2)"
   ]
  },
  {
   "cell_type": "code",
   "execution_count": null,
   "metadata": {},
   "outputs": [],
   "source": []
  },
  {
   "cell_type": "code",
   "execution_count": null,
   "metadata": {},
   "outputs": [],
   "source": []
  },
  {
   "cell_type": "markdown",
   "metadata": {},
   "source": [
    "Std Deviation and Variance#341"
   ]
  },
  {
   "cell_type": "code",
   "execution_count": 104,
   "metadata": {},
   "outputs": [],
   "source": [
    "#Measure of spread of Data"
   ]
  },
  {
   "cell_type": "code",
   "execution_count": 105,
   "metadata": {},
   "outputs": [],
   "source": [
    "high_var_array=np.array([1,100,200,300,4000,5000,6000])\n",
    "low_var_array=np.array([2,4,6,8,10])"
   ]
  },
  {
   "cell_type": "code",
   "execution_count": 106,
   "metadata": {},
   "outputs": [
    {
     "data": {
      "text/plain": [
       "(6052832.775510205, 8.0)"
      ]
     },
     "execution_count": 106,
     "metadata": {},
     "output_type": "execute_result"
    }
   ],
   "source": [
    "np.var(high_var_array), np.var(low_var_array)"
   ]
  },
  {
   "cell_type": "code",
   "execution_count": 107,
   "metadata": {},
   "outputs": [
    {
     "data": {
      "text/plain": [
       "(2460.2505513687433, 2.8284271247461903)"
      ]
     },
     "execution_count": 107,
     "metadata": {},
     "output_type": "execute_result"
    }
   ],
   "source": [
    "np.std(high_var_array), np.std(low_var_array)"
   ]
  },
  {
   "cell_type": "code",
   "execution_count": 109,
   "metadata": {},
   "outputs": [
    {
     "data": {
      "text/plain": [
       "(2228.714285714286, 6.0)"
      ]
     },
     "execution_count": 109,
     "metadata": {},
     "output_type": "execute_result"
    }
   ],
   "source": [
    "np.mean(high_var_array), np.mean(low_var_array)#avg distance from the mean is std deviation"
   ]
  },
  {
   "cell_type": "code",
   "execution_count": null,
   "metadata": {},
   "outputs": [],
   "source": []
  },
  {
   "cell_type": "code",
   "execution_count": null,
   "metadata": {},
   "outputs": [],
   "source": []
  },
  {
   "cell_type": "markdown",
   "metadata": {},
   "source": [
    "Reshape and Transpose#342"
   ]
  },
  {
   "cell_type": "code",
   "execution_count": 110,
   "metadata": {},
   "outputs": [],
   "source": [
    "#Lining up the inputs with the machine learing outputs"
   ]
  },
  {
   "cell_type": "code",
   "execution_count": 111,
   "metadata": {},
   "outputs": [
    {
     "data": {
      "text/plain": [
       "(2, 3)"
      ]
     },
     "execution_count": 111,
     "metadata": {},
     "output_type": "execute_result"
    }
   ],
   "source": [
    "a2.shape"
   ]
  },
  {
   "cell_type": "code",
   "execution_count": 112,
   "metadata": {},
   "outputs": [
    {
     "ename": "ValueError",
     "evalue": "operands could not be broadcast together with shapes (2,3) (2,2,2) ",
     "output_type": "error",
     "traceback": [
      "\u001b[1;31m---------------------------------------------------------------------------\u001b[0m",
      "\u001b[1;31mValueError\u001b[0m                                Traceback (most recent call last)",
      "\u001b[1;32m<ipython-input-112-e78a3a07c1a0>\u001b[0m in \u001b[0;36m<module>\u001b[1;34m\u001b[0m\n\u001b[1;32m----> 1\u001b[1;33m \u001b[0ma2\u001b[0m\u001b[1;33m*\u001b[0m\u001b[0ma3\u001b[0m\u001b[1;33m\u001b[0m\u001b[1;33m\u001b[0m\u001b[0m\n\u001b[0m",
      "\u001b[1;31mValueError\u001b[0m: operands could not be broadcast together with shapes (2,3) (2,2,2) "
     ]
    }
   ],
   "source": [
    "a2*a3"
   ]
  },
  {
   "cell_type": "code",
   "execution_count": 116,
   "metadata": {},
   "outputs": [
    {
     "data": {
      "text/plain": [
       "(2, 3, 1)"
      ]
     },
     "execution_count": 116,
     "metadata": {},
     "output_type": "execute_result"
    }
   ],
   "source": [
    "a2.reshape(2,3,1).shape"
   ]
  },
  {
   "cell_type": "code",
   "execution_count": 117,
   "metadata": {},
   "outputs": [
    {
     "data": {
      "text/plain": [
       "(2, 3)"
      ]
     },
     "execution_count": 117,
     "metadata": {},
     "output_type": "execute_result"
    }
   ],
   "source": [
    "a2.shape"
   ]
  },
  {
   "cell_type": "code",
   "execution_count": 122,
   "metadata": {},
   "outputs": [],
   "source": [
    "a2_reshape=a2.reshape(2,3,1)"
   ]
  },
  {
   "cell_type": "code",
   "execution_count": 123,
   "metadata": {},
   "outputs": [
    {
     "ename": "ValueError",
     "evalue": "operands could not be broadcast together with shapes (2,3,1) (2,2,2) ",
     "output_type": "error",
     "traceback": [
      "\u001b[1;31m---------------------------------------------------------------------------\u001b[0m",
      "\u001b[1;31mValueError\u001b[0m                                Traceback (most recent call last)",
      "\u001b[1;32m<ipython-input-123-3b41217c5808>\u001b[0m in \u001b[0;36m<module>\u001b[1;34m\u001b[0m\n\u001b[1;32m----> 1\u001b[1;33m \u001b[0ma2_reshape\u001b[0m\u001b[1;33m*\u001b[0m\u001b[0ma3\u001b[0m\u001b[1;33m\u001b[0m\u001b[1;33m\u001b[0m\u001b[0m\n\u001b[0m",
      "\u001b[1;31mValueError\u001b[0m: operands could not be broadcast together with shapes (2,3,1) (2,2,2) "
     ]
    }
   ],
   "source": [
    "a2_reshape*a3"
   ]
  },
  {
   "cell_type": "code",
   "execution_count": 126,
   "metadata": {},
   "outputs": [
    {
     "data": {
      "text/plain": [
       "(3, 2)"
      ]
     },
     "execution_count": 126,
     "metadata": {},
     "output_type": "execute_result"
    }
   ],
   "source": [
    "a2.transpose().shape#Switches the axises"
   ]
  },
  {
   "cell_type": "markdown",
   "metadata": {},
   "source": [
    "Dot Product"
   ]
  },
  {
   "cell_type": "code",
   "execution_count": 132,
   "metadata": {},
   "outputs": [
    {
     "data": {
      "text/plain": [
       "(array([[5, 0, 3],\n",
       "        [3, 7, 9],\n",
       "        [3, 5, 2],\n",
       "        [4, 7, 6],\n",
       "        [8, 8, 1]]),\n",
       " array([[6, 7, 7, 8, 1],\n",
       "        [5, 9, 8, 9, 4],\n",
       "        [3, 0, 3, 5, 0]]))"
      ]
     },
     "execution_count": 132,
     "metadata": {},
     "output_type": "execute_result"
    }
   ],
   "source": [
    "np.random.seed(0)\n",
    "mat1=np.random.randint(10, size=(5,3))\n",
    "mat2=np.random.randint(10, size=(3,5))\n",
    "\n",
    "mat1, mat2"
   ]
  },
  {
   "cell_type": "code",
   "execution_count": 133,
   "metadata": {},
   "outputs": [
    {
     "data": {
      "text/plain": [
       "array([[ 39,  35,  44,  55,   5],\n",
       "       [ 80,  84, 104, 132,  31],\n",
       "       [ 49,  66,  67,  79,  23],\n",
       "       [ 77,  91, 102, 125,  32],\n",
       "       [ 91, 128, 123, 141,  40]])"
      ]
     },
     "execution_count": 133,
     "metadata": {},
     "output_type": "execute_result"
    }
   ],
   "source": [
    "np.dot(mat1,mat2)"
   ]
  },
  {
   "cell_type": "code",
   "execution_count": 135,
   "metadata": {},
   "outputs": [
    {
     "ename": "ValueError",
     "evalue": "operands could not be broadcast together with shapes (5,3) (3,5) ",
     "output_type": "error",
     "traceback": [
      "\u001b[1;31m---------------------------------------------------------------------------\u001b[0m",
      "\u001b[1;31mValueError\u001b[0m                                Traceback (most recent call last)",
      "\u001b[1;32m<ipython-input-135-f2c6f9d04f62>\u001b[0m in \u001b[0;36m<module>\u001b[1;34m\u001b[0m\n\u001b[1;32m----> 1\u001b[1;33m \u001b[0mmat1\u001b[0m\u001b[1;33m*\u001b[0m\u001b[0mmat2\u001b[0m\u001b[1;33m\u001b[0m\u001b[1;33m\u001b[0m\u001b[0m\n\u001b[0m",
      "\u001b[1;31mValueError\u001b[0m: operands could not be broadcast together with shapes (5,3) (3,5) "
     ]
    }
   ],
   "source": [
    "mat1*mat2"
   ]
  },
  {
   "cell_type": "code",
   "execution_count": 136,
   "metadata": {},
   "outputs": [],
   "source": [
    "#For Dot Product, the shape should be correctly alligned....3*3.3*2=>3*2...It's just another tool in the arsenel to find patterns in the Machine learning process"
   ]
  },
  {
   "cell_type": "code",
   "execution_count": null,
   "metadata": {},
   "outputs": [],
   "source": []
  },
  {
   "cell_type": "code",
   "execution_count": null,
   "metadata": {},
   "outputs": [],
   "source": []
  },
  {
   "cell_type": "code",
   "execution_count": 137,
   "metadata": {},
   "outputs": [
    {
     "data": {
      "text/plain": [
       "array([[12, 15,  0],\n",
       "       [ 3,  3,  7],\n",
       "       [ 9, 19, 18],\n",
       "       [ 4,  6, 12],\n",
       "       [ 1,  6,  7]])"
      ]
     },
     "execution_count": 137,
     "metadata": {},
     "output_type": "execute_result"
    }
   ],
   "source": [
    "\n",
    "#Dot Product Exercise for \n",
    "\n",
    "np.random.seed(0)\n",
    "sales_amt=np.random.randint(20, size=(5,3))\n",
    "sales_amt"
   ]
  },
  {
   "cell_type": "code",
   "execution_count": 138,
   "metadata": {},
   "outputs": [],
   "source": [
    "weekly_sales=pd.DataFrame(sales_amt,\n",
    "                         index=['Mon','Tue','Wed','Thurs','Fri'],\n",
    "                         columns=['Almond Butter','Peanut butter', 'cashew butter'])"
   ]
  },
  {
   "cell_type": "code",
   "execution_count": 139,
   "metadata": {},
   "outputs": [
    {
     "data": {
      "text/html": [
       "<div>\n",
       "<style scoped>\n",
       "    .dataframe tbody tr th:only-of-type {\n",
       "        vertical-align: middle;\n",
       "    }\n",
       "\n",
       "    .dataframe tbody tr th {\n",
       "        vertical-align: top;\n",
       "    }\n",
       "\n",
       "    .dataframe thead th {\n",
       "        text-align: right;\n",
       "    }\n",
       "</style>\n",
       "<table border=\"1\" class=\"dataframe\">\n",
       "  <thead>\n",
       "    <tr style=\"text-align: right;\">\n",
       "      <th></th>\n",
       "      <th>Almond Butter</th>\n",
       "      <th>Peanut butter</th>\n",
       "      <th>cashew butter</th>\n",
       "    </tr>\n",
       "  </thead>\n",
       "  <tbody>\n",
       "    <tr>\n",
       "      <th>Mon</th>\n",
       "      <td>12</td>\n",
       "      <td>15</td>\n",
       "      <td>0</td>\n",
       "    </tr>\n",
       "    <tr>\n",
       "      <th>Tue</th>\n",
       "      <td>3</td>\n",
       "      <td>3</td>\n",
       "      <td>7</td>\n",
       "    </tr>\n",
       "    <tr>\n",
       "      <th>Wed</th>\n",
       "      <td>9</td>\n",
       "      <td>19</td>\n",
       "      <td>18</td>\n",
       "    </tr>\n",
       "    <tr>\n",
       "      <th>Thurs</th>\n",
       "      <td>4</td>\n",
       "      <td>6</td>\n",
       "      <td>12</td>\n",
       "    </tr>\n",
       "    <tr>\n",
       "      <th>Fri</th>\n",
       "      <td>1</td>\n",
       "      <td>6</td>\n",
       "      <td>7</td>\n",
       "    </tr>\n",
       "  </tbody>\n",
       "</table>\n",
       "</div>"
      ],
      "text/plain": [
       "       Almond Butter  Peanut butter  cashew butter\n",
       "Mon               12             15              0\n",
       "Tue                3              3              7\n",
       "Wed                9             19             18\n",
       "Thurs              4              6             12\n",
       "Fri                1              6              7"
      ]
     },
     "execution_count": 139,
     "metadata": {},
     "output_type": "execute_result"
    }
   ],
   "source": [
    "weekly_sales"
   ]
  },
  {
   "cell_type": "code",
   "execution_count": 140,
   "metadata": {},
   "outputs": [],
   "source": [
    "prices=np.array([10,8,12])"
   ]
  },
  {
   "cell_type": "code",
   "execution_count": 146,
   "metadata": {},
   "outputs": [],
   "source": [
    "butter_prices=pd.DataFrame(prices.reshape(1,3),index=['price'],\n",
    "                          columns=['Almond Butter','Peanut butter', 'cashew butter'])"
   ]
  },
  {
   "cell_type": "code",
   "execution_count": 147,
   "metadata": {},
   "outputs": [
    {
     "data": {
      "text/html": [
       "<div>\n",
       "<style scoped>\n",
       "    .dataframe tbody tr th:only-of-type {\n",
       "        vertical-align: middle;\n",
       "    }\n",
       "\n",
       "    .dataframe tbody tr th {\n",
       "        vertical-align: top;\n",
       "    }\n",
       "\n",
       "    .dataframe thead th {\n",
       "        text-align: right;\n",
       "    }\n",
       "</style>\n",
       "<table border=\"1\" class=\"dataframe\">\n",
       "  <thead>\n",
       "    <tr style=\"text-align: right;\">\n",
       "      <th></th>\n",
       "      <th>Almond Butter</th>\n",
       "      <th>Peanut butter</th>\n",
       "      <th>cashew butter</th>\n",
       "    </tr>\n",
       "  </thead>\n",
       "  <tbody>\n",
       "    <tr>\n",
       "      <th>price</th>\n",
       "      <td>10</td>\n",
       "      <td>8</td>\n",
       "      <td>12</td>\n",
       "    </tr>\n",
       "  </tbody>\n",
       "</table>\n",
       "</div>"
      ],
      "text/plain": [
       "       Almond Butter  Peanut butter  cashew butter\n",
       "price             10              8             12"
      ]
     },
     "execution_count": 147,
     "metadata": {},
     "output_type": "execute_result"
    }
   ],
   "source": [
    "butter_prices"
   ]
  },
  {
   "cell_type": "code",
   "execution_count": 148,
   "metadata": {},
   "outputs": [
    {
     "data": {
      "text/plain": [
       "(1, 3)"
      ]
     },
     "execution_count": 148,
     "metadata": {},
     "output_type": "execute_result"
    }
   ],
   "source": [
    "butter_prices.shape"
   ]
  },
  {
   "cell_type": "code",
   "execution_count": 149,
   "metadata": {},
   "outputs": [
    {
     "data": {
      "text/plain": [
       "(5, 3)"
      ]
     },
     "execution_count": 149,
     "metadata": {},
     "output_type": "execute_result"
    }
   ],
   "source": [
    "weekly_sales.shape"
   ]
  },
  {
   "cell_type": "code",
   "execution_count": 150,
   "metadata": {},
   "outputs": [],
   "source": [
    "total_sales=prices.dot(sales_amt.T)"
   ]
  },
  {
   "cell_type": "code",
   "execution_count": 151,
   "metadata": {},
   "outputs": [
    {
     "data": {
      "text/plain": [
       "array([240, 138, 458, 232, 142])"
      ]
     },
     "execution_count": 151,
     "metadata": {},
     "output_type": "execute_result"
    }
   ],
   "source": [
    "total_sales"
   ]
  },
  {
   "cell_type": "code",
   "execution_count": 152,
   "metadata": {},
   "outputs": [
    {
     "data": {
      "text/plain": [
       "1210"
      ]
     },
     "execution_count": 152,
     "metadata": {},
     "output_type": "execute_result"
    }
   ],
   "source": [
    "total_sales.sum()"
   ]
  },
  {
   "cell_type": "code",
   "execution_count": 157,
   "metadata": {},
   "outputs": [
    {
     "data": {
      "text/plain": [
       "((5, 3), (1, 3))"
      ]
     },
     "execution_count": 157,
     "metadata": {},
     "output_type": "execute_result"
    }
   ],
   "source": [
    "#Create Daily Sales\n",
    "\n",
    "weekly_sales.shape, butter_prices.shape\n"
   ]
  },
  {
   "cell_type": "code",
   "execution_count": 161,
   "metadata": {},
   "outputs": [],
   "source": [
    "daily_sales=weekly_sales.dot(butter_prices.T)"
   ]
  },
  {
   "cell_type": "code",
   "execution_count": 162,
   "metadata": {},
   "outputs": [
    {
     "data": {
      "text/html": [
       "<div>\n",
       "<style scoped>\n",
       "    .dataframe tbody tr th:only-of-type {\n",
       "        vertical-align: middle;\n",
       "    }\n",
       "\n",
       "    .dataframe tbody tr th {\n",
       "        vertical-align: top;\n",
       "    }\n",
       "\n",
       "    .dataframe thead th {\n",
       "        text-align: right;\n",
       "    }\n",
       "</style>\n",
       "<table border=\"1\" class=\"dataframe\">\n",
       "  <thead>\n",
       "    <tr style=\"text-align: right;\">\n",
       "      <th></th>\n",
       "      <th>price</th>\n",
       "    </tr>\n",
       "  </thead>\n",
       "  <tbody>\n",
       "    <tr>\n",
       "      <th>Mon</th>\n",
       "      <td>240</td>\n",
       "    </tr>\n",
       "    <tr>\n",
       "      <th>Tue</th>\n",
       "      <td>138</td>\n",
       "    </tr>\n",
       "    <tr>\n",
       "      <th>Wed</th>\n",
       "      <td>458</td>\n",
       "    </tr>\n",
       "    <tr>\n",
       "      <th>Thurs</th>\n",
       "      <td>232</td>\n",
       "    </tr>\n",
       "    <tr>\n",
       "      <th>Fri</th>\n",
       "      <td>142</td>\n",
       "    </tr>\n",
       "  </tbody>\n",
       "</table>\n",
       "</div>"
      ],
      "text/plain": [
       "       price\n",
       "Mon      240\n",
       "Tue      138\n",
       "Wed      458\n",
       "Thurs    232\n",
       "Fri      142"
      ]
     },
     "execution_count": 162,
     "metadata": {},
     "output_type": "execute_result"
    }
   ],
   "source": [
    "daily_sales"
   ]
  },
  {
   "cell_type": "code",
   "execution_count": 163,
   "metadata": {},
   "outputs": [],
   "source": [
    "weekly_sales['Total($)']=daily_sales"
   ]
  },
  {
   "cell_type": "code",
   "execution_count": 164,
   "metadata": {},
   "outputs": [
    {
     "data": {
      "text/html": [
       "<div>\n",
       "<style scoped>\n",
       "    .dataframe tbody tr th:only-of-type {\n",
       "        vertical-align: middle;\n",
       "    }\n",
       "\n",
       "    .dataframe tbody tr th {\n",
       "        vertical-align: top;\n",
       "    }\n",
       "\n",
       "    .dataframe thead th {\n",
       "        text-align: right;\n",
       "    }\n",
       "</style>\n",
       "<table border=\"1\" class=\"dataframe\">\n",
       "  <thead>\n",
       "    <tr style=\"text-align: right;\">\n",
       "      <th></th>\n",
       "      <th>Almond Butter</th>\n",
       "      <th>Peanut butter</th>\n",
       "      <th>cashew butter</th>\n",
       "      <th>Total($)</th>\n",
       "    </tr>\n",
       "  </thead>\n",
       "  <tbody>\n",
       "    <tr>\n",
       "      <th>Mon</th>\n",
       "      <td>12</td>\n",
       "      <td>15</td>\n",
       "      <td>0</td>\n",
       "      <td>240</td>\n",
       "    </tr>\n",
       "    <tr>\n",
       "      <th>Tue</th>\n",
       "      <td>3</td>\n",
       "      <td>3</td>\n",
       "      <td>7</td>\n",
       "      <td>138</td>\n",
       "    </tr>\n",
       "    <tr>\n",
       "      <th>Wed</th>\n",
       "      <td>9</td>\n",
       "      <td>19</td>\n",
       "      <td>18</td>\n",
       "      <td>458</td>\n",
       "    </tr>\n",
       "    <tr>\n",
       "      <th>Thurs</th>\n",
       "      <td>4</td>\n",
       "      <td>6</td>\n",
       "      <td>12</td>\n",
       "      <td>232</td>\n",
       "    </tr>\n",
       "    <tr>\n",
       "      <th>Fri</th>\n",
       "      <td>1</td>\n",
       "      <td>6</td>\n",
       "      <td>7</td>\n",
       "      <td>142</td>\n",
       "    </tr>\n",
       "  </tbody>\n",
       "</table>\n",
       "</div>"
      ],
      "text/plain": [
       "       Almond Butter  Peanut butter  cashew butter  Total($)\n",
       "Mon               12             15              0       240\n",
       "Tue                3              3              7       138\n",
       "Wed                9             19             18       458\n",
       "Thurs              4              6             12       232\n",
       "Fri                1              6              7       142"
      ]
     },
     "execution_count": 164,
     "metadata": {},
     "output_type": "execute_result"
    }
   ],
   "source": [
    "weekly_sales"
   ]
  },
  {
   "cell_type": "code",
   "execution_count": null,
   "metadata": {},
   "outputs": [],
   "source": []
  }
 ],
 "metadata": {
  "kernelspec": {
   "display_name": "Python 3",
   "language": "python",
   "name": "python3"
  },
  "language_info": {
   "codemirror_mode": {
    "name": "ipython",
    "version": 3
   },
   "file_extension": ".py",
   "mimetype": "text/x-python",
   "name": "python",
   "nbconvert_exporter": "python",
   "pygments_lexer": "ipython3",
   "version": "3.8.3"
  }
 },
 "nbformat": 4,
 "nbformat_minor": 4
}
